{
 "cells": [
  {
   "cell_type": "code",
   "execution_count": 1,
   "metadata": {},
   "outputs": [
    {
     "name": "stdout",
     "output_type": "stream",
     "text": [
      "\n",
      "WARNING: The TensorFlow contrib module will not be included in TensorFlow 2.0.\n",
      "For more information, please see:\n",
      "  * https://github.com/tensorflow/community/blob/master/rfcs/20180907-contrib-sunset.md\n",
      "  * https://github.com/tensorflow/addons\n",
      "If you depend on functionality not listed there, please file an issue.\n",
      "\n"
     ]
    }
   ],
   "source": [
    "import tensorflow as tf\n",
    "import tensorflow_datasets as tfds\n",
    "import numpy as np\n",
    "import matplotlib.pyplot as plt"
   ]
  },
  {
   "cell_type": "code",
   "execution_count": 2,
   "metadata": {},
   "outputs": [],
   "source": [
    "LEAKY_RELU_ALPHA = 0.3     # Keras default\n",
    "BATCH_NORM_MOMENTUM = 0.99 # Keras default\n",
    "\n",
    "conv_0_0_params = dict(filters=16, padding='same', activation='leaky_relu')\n",
    "conv_0_1_params = dict(filters=16, padding='same', activation='leaky_relu')\n",
    "conv_1_0_params = dict(filters=32, padding='same', activation='leaky_relu')\n",
    "conv_1_1_params = dict(filters=32, padding='same', activation='leaky_relu')\n",
    "\n",
    "pooling = 'max'\n",
    "reduce = 'flatten'\n",
    "extra_dense = False\n",
    "extra_dense_units = 128"
   ]
  },
  {
   "cell_type": "code",
   "execution_count": 3,
   "metadata": {},
   "outputs": [],
   "source": [
    "tf.enable_eager_execution()\n",
    "tf.logging.set_verbosity(tf.logging.ERROR)"
   ]
  },
  {
   "cell_type": "code",
   "execution_count": 4,
   "metadata": {},
   "outputs": [],
   "source": [
    "ds, info = tfds.load('fashion_mnist', split=['train', 'test'], with_info=True)"
   ]
  },
  {
   "cell_type": "code",
   "execution_count": null,
   "metadata": {},
   "outputs": [],
   "source": [
    "print(info)"
   ]
  },
  {
   "cell_type": "code",
   "execution_count": 5,
   "metadata": {},
   "outputs": [],
   "source": [
    "fashion_train, fashion_test = ds"
   ]
  },
  {
   "cell_type": "code",
   "execution_count": 6,
   "metadata": {},
   "outputs": [],
   "source": [
    "def parser(example):\n",
    "    return example[\"image\"] / 255, example[\"label\"]"
   ]
  },
  {
   "cell_type": "code",
   "execution_count": 7,
   "metadata": {},
   "outputs": [],
   "source": [
    "fashion_train = fashion_train.shuffle(1000).map(parser).batch(10).prefetch(10)"
   ]
  },
  {
   "cell_type": "code",
   "execution_count": 8,
   "metadata": {},
   "outputs": [],
   "source": [
    "# https://www.tensorflow.org/tutorials/eager/custom_layers\n",
    "class ConvBlock(tf.keras.Model):\n",
    "    def __init__(self, \n",
    "                 filters=16, \n",
    "                 kernel_size=3, \n",
    "                 strides=1,\n",
    "                 padding='same', \n",
    "                 activation='leaky_relu',\n",
    "                 batch_normalization=True, \n",
    "                 conv_first=True):\n",
    "        \"\"\"2D Convolution -> Batch Normalization -> Activation stack builder\n",
    "\n",
    "        # Arguments\n",
    "            ## Conv2D features:\n",
    "            num_filters (int): number of filters used by Conv2D\n",
    "            kernel_size (int): square kernel dimension\n",
    "            strides (int): square stride dimension\n",
    "            padding (str): one of 'same' or 'valid'\n",
    "\n",
    "            ## Other cell features\n",
    "            activation (string): name of activation function to be used or None\n",
    "            batch_normalization (bool): whether to use batch normalization\n",
    "            conv_first (bool): conv -> bn         -> activation, if True; \n",
    "                               bn   -> activation -> conv,       if False\n",
    "        \"\"\"\n",
    "        super(ConvBlock, self).__init__(name='')\n",
    "\n",
    "        self.conv_first = conv_first\n",
    "        self.conv = tf.keras.layers.Conv2D(\n",
    "            filters, \n",
    "            kernel_size=kernel_size,\n",
    "            strides=strides,\n",
    "            padding=padding)\n",
    "        \n",
    "        if batch_normalization:\n",
    "            self.batch_norm = \\\n",
    "                tf.keras.layers.BatchNormalization(momentum=BATCH_NORM_MOMENTUM)\n",
    "        else:\n",
    "            self.batch_norm = None\n",
    "        \n",
    "        # Determine which activation function to use:\n",
    "        if isinstance(activation, str):\n",
    "            if activation.lower() == 'leaky_relu':\n",
    "                self.activation_fn = \\\n",
    "                    tf.keras.layers.LeakyReLU(alpha=LEAKY_RELU_ALPHA)\n",
    "            else:\n",
    "                self.activation_fn = \\\n",
    "                    tf.keras.layers.Activation(activation) # May raise an error\n",
    "        else:\n",
    "            self.activation_fn = None\n",
    "\n",
    "    def call(self, input_tensor, training=False):\n",
    "        x = input_tensor\n",
    "        if self.conv_first:\n",
    "            x = self.conv(x)\n",
    "            if self.batch_norm is not None:\n",
    "                x = self.batch_norm(x, training=training)\n",
    "            if self.activation_fn is not None:\n",
    "                x = self.activation_fn(x)\n",
    "        else:\n",
    "            if self.batch_norm is not None:\n",
    "                x = self.batch_norm(x, training=training)\n",
    "            if self.activation_fn is not None:\n",
    "                x = self.activation_fn(x)\n",
    "            x = self.conv(x)\n",
    "        return x"
   ]
  },
  {
   "cell_type": "code",
   "execution_count": 9,
   "metadata": {},
   "outputs": [],
   "source": [
    "# Select the pooling method\n",
    "if pooling.lower() == 'max':\n",
    "    Pooling2D = tf.keras.layers.MaxPooling2D\n",
    "else:\n",
    "    assert (pooling.lower() == 'average')\n",
    "    Pooling2D = tf.keras.layers.AveragePooling2D\n",
    "    \n",
    "# Select reduce method\n",
    "if reduce.lower() == 'flatten':\n",
    "    Reduce = tf.keras.layers.Flatten\n",
    "else:\n",
    "    assert (reduce.lower() == 'gap')\n",
    "    Reduce = tf.keras.layers.GlobalAveragePooling2D"
   ]
  },
  {
   "cell_type": "code",
   "execution_count": 10,
   "metadata": {},
   "outputs": [],
   "source": [
    "inputs = tf.keras.Input(shape=(28, 28, 1))\n",
    "x = inputs\n",
    "x = ConvBlock(**conv_0_0_params)(x)    # conv_0_0\n",
    "x = ConvBlock(**conv_0_1_params)(x)    # conv_0_1\n",
    "x = Pooling2D()(x)\n",
    "x = ConvBlock(**conv_1_0_params)(x)    # conv_1_0\n",
    "x = ConvBlock(**conv_1_1_params)(x)    # conv_1_1\n",
    "x = Reduce()(x)\n",
    "if extra_dense == True:\n",
    "    x = tf.keras.layers.Dense(extra_dense_units)(x)\n",
    "x = tf.keras.layers.Dense(10, activation='softmax')(x)"
   ]
  },
  {
   "cell_type": "code",
   "execution_count": 11,
   "metadata": {},
   "outputs": [],
   "source": [
    "model = tf.keras.Model(inputs=inputs, outputs=x)"
   ]
  },
  {
   "cell_type": "code",
   "execution_count": 12,
   "metadata": {},
   "outputs": [],
   "source": [
    "model.compile(\n",
    "    optimizer='adam',\n",
    "    loss='sparse_categorical_crossentropy',\n",
    "    metrics=['accuracy']\n",
    ")"
   ]
  },
  {
   "cell_type": "code",
   "execution_count": 13,
   "metadata": {},
   "outputs": [],
   "source": [
    "fashion_iterator = fashion_train.make_one_shot_iterator()"
   ]
  },
  {
   "cell_type": "code",
   "execution_count": 14,
   "metadata": {},
   "outputs": [
    {
     "name": "stdout",
     "output_type": "stream",
     "text": [
      "6000/6000 [==============================] - 31s 5ms/step - loss: 0.3801 - acc: 0.8655\n"
     ]
    },
    {
     "data": {
      "text/plain": [
       "<tensorflow.python.keras.callbacks.History at 0x7f49580c63c8>"
      ]
     },
     "execution_count": 14,
     "metadata": {},
     "output_type": "execute_result"
    }
   ],
   "source": [
    "model.fit(x=fashion_iterator, steps_per_epoch=6000, epochs=1)"
   ]
  },
  {
   "cell_type": "code",
   "execution_count": null,
   "metadata": {},
   "outputs": [],
   "source": [
    "model.summary()"
   ]
  },
  {
   "cell_type": "code",
   "execution_count": null,
   "metadata": {},
   "outputs": [],
   "source": []
  }
 ],
 "metadata": {
  "kernelspec": {
   "display_name": "Python 3",
   "language": "python",
   "name": "python3"
  },
  "language_info": {
   "codemirror_mode": {
    "name": "ipython",
    "version": 3
   },
   "file_extension": ".py",
   "mimetype": "text/x-python",
   "name": "python",
   "nbconvert_exporter": "python",
   "pygments_lexer": "ipython3",
   "version": "3.7.2"
  }
 },
 "nbformat": 4,
 "nbformat_minor": 2
}
