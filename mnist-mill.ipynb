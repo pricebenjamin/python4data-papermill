{
 "cells": [
  {
   "cell_type": "code",
   "execution_count": 1,
   "metadata": {},
   "outputs": [],
   "source": [
    "import papermill as pm\n",
    "import random as r\n",
    "import scrapbook as sb\n",
    "import string"
   ]
  },
  {
   "cell_type": "code",
   "execution_count": 2,
   "metadata": {},
   "outputs": [],
   "source": [
    "def choose_random_parameters():\n",
    "    parameters = dict(\n",
    "        pooling=r.choice(['max', 'average']),\n",
    "        reduce=r.choice(['flatten', 'gap']),\n",
    "        extra_dense=r.choice([True, False]),\n",
    "        extra_dense_units=r.choice([32, 64, 128])\n",
    "    )\n",
    "    return parameters"
   ]
  },
  {
   "cell_type": "code",
   "execution_count": 3,
   "metadata": {},
   "outputs": [
    {
     "name": "stdout",
     "output_type": "stream",
     "text": [
      "mnist-output/mnist-cnn-d8cC380A.ipynb\n"
     ]
    },
    {
     "data": {
      "application/vnd.jupyter.widget-view+json": {
       "model_id": "2ffa3f9b26cf4cdb94b97293707b7c50",
       "version_major": 2,
       "version_minor": 0
      },
      "text/plain": [
       "HBox(children=(IntProgress(value=0, max=19), HTML(value='')))"
      ]
     },
     "metadata": {},
     "output_type": "display_data"
    },
    {
     "name": "stdout",
     "output_type": "stream",
     "text": [
      "\n",
      "mnist-output/mnist-cnn-eeE0b66E.ipynb\n"
     ]
    },
    {
     "data": {
      "application/vnd.jupyter.widget-view+json": {
       "model_id": "063310d8d6f74115986eb93d0a8374eb",
       "version_major": 2,
       "version_minor": 0
      },
      "text/plain": [
       "HBox(children=(IntProgress(value=0, max=19), HTML(value='')))"
      ]
     },
     "metadata": {},
     "output_type": "display_data"
    },
    {
     "name": "stdout",
     "output_type": "stream",
     "text": [
      "\n",
      "mnist-output/mnist-cnn-5b4f7acb.ipynb\n"
     ]
    },
    {
     "data": {
      "application/vnd.jupyter.widget-view+json": {
       "model_id": "c872c5a13af04de3ae0b086625c39c15",
       "version_major": 2,
       "version_minor": 0
      },
      "text/plain": [
       "HBox(children=(IntProgress(value=0, max=19), HTML(value='')))"
      ]
     },
     "metadata": {},
     "output_type": "display_data"
    },
    {
     "name": "stdout",
     "output_type": "stream",
     "text": [
      "\n",
      "mnist-output/mnist-cnn-7A18deeb.ipynb\n"
     ]
    },
    {
     "data": {
      "application/vnd.jupyter.widget-view+json": {
       "model_id": "7a133b0a83b545f3851bd1ac4f525389",
       "version_major": 2,
       "version_minor": 0
      },
      "text/plain": [
       "HBox(children=(IntProgress(value=0, max=19), HTML(value='')))"
      ]
     },
     "metadata": {},
     "output_type": "display_data"
    },
    {
     "name": "stdout",
     "output_type": "stream",
     "text": [
      "\n"
     ]
    }
   ],
   "source": [
    "for _ in range(4):\n",
    "    rand_str = \"\".join(r.choices(list(string.hexdigits), k=8))\n",
    "    output_nb = f\"mnist-output/mnist-cnn-{rand_str}.ipynb\"\n",
    "    print(output_nb)\n",
    "    pm.execute_notebook(\n",
    "        \"mnist-cnn.ipynb\",\n",
    "        output_nb,\n",
    "        parameters = choose_random_parameters()\n",
    "    )"
   ]
  },
  {
   "cell_type": "code",
   "execution_count": 4,
   "metadata": {},
   "outputs": [],
   "source": [
    "collection = sb.read_notebooks('mnist-output/')"
   ]
  },
  {
   "cell_type": "code",
   "execution_count": 9,
   "metadata": {},
   "outputs": [
    {
     "name": "stdout",
     "output_type": "stream",
     "text": [
      "mnist-output/mnist-cnn-5b4f7acb.ipynb\n",
      "{'extra_dense': False, 'extra_dense_units': 64, 'pooling': 'average', 'reduce': 'flatten'}\n",
      "mnist-output/mnist-cnn-7A18deeb.ipynb\n",
      "{'extra_dense': False, 'extra_dense_units': 128, 'pooling': 'max', 'reduce': 'flatten'}\n",
      "mnist-output/mnist-cnn-d8cC380A.ipynb\n",
      "{'extra_dense': False, 'extra_dense_units': 128, 'pooling': 'max', 'reduce': 'flatten'}\n",
      "mnist-output/mnist-cnn-eeE0b66E.ipynb\n",
      "{'extra_dense': True, 'extra_dense_units': 32, 'pooling': 'max', 'reduce': 'gap'}\n"
     ]
    }
   ],
   "source": [
    "for notebook in collection.notebooks:\n",
    "    print(notebook.metadata['papermill']['output_path'])\n",
    "    print(notebook.metadata['papermill']['parameters'])"
   ]
  },
  {
   "cell_type": "code",
   "execution_count": 16,
   "metadata": {},
   "outputs": [
    {
     "name": "stdout",
     "output_type": "stream",
     "text": [
      "mnist-cnn-5b4f7acb.ipynb\n",
      "    Accuracy: [0.8514833450317383]\n",
      "mnist-cnn-7A18deeb.ipynb\n",
      "    Accuracy: [0.8609499931335449]\n",
      "mnist-cnn-d8cC380A.ipynb\n",
      "    Accuracy: [0.8625333309173584]\n",
      "mnist-cnn-eeE0b66E.ipynb\n",
      "    Accuracy: [0.6967666745185852]\n"
     ]
    }
   ],
   "source": [
    "for notebook in collection.notebooks:\n",
    "    print(notebook.metadata['papermill']['output_path'].split('/')[-1])\n",
    "    print(\"    Accuracy:\", notebook.scraps['accuracy'][1])"
   ]
  }
 ],
 "metadata": {
  "celltoolbar": "Edit Metadata",
  "kernelspec": {
   "display_name": "Python 3",
   "language": "python",
   "name": "python3"
  },
  "language_info": {
   "codemirror_mode": {
    "name": "ipython",
    "version": 3
   },
   "file_extension": ".py",
   "mimetype": "text/x-python",
   "name": "python",
   "nbconvert_exporter": "python",
   "pygments_lexer": "ipython3",
   "version": "3.7.2"
  }
 },
 "nbformat": 4,
 "nbformat_minor": 2
}
